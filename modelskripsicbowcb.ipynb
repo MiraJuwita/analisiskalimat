{
  "nbformat": 4,
  "nbformat_minor": 0,
  "metadata": {
    "colab": {
      "provenance": [],
      "gpuType": "T4"
    },
    "kernelspec": {
      "name": "python3",
      "display_name": "Python 3"
    },
    "language_info": {
      "name": "python"
    },
    "accelerator": "GPU"
  },
  "cells": [
    {
      "cell_type": "code",
      "execution_count": 1,
      "metadata": {
        "id": "JD2QsObWXPsf"
      },
      "outputs": [],
      "source": [
        "import tensorflow as tf\n",
        "#plot tools\n",
        "import seaborn as sns\n",
        "import matplotlib.pyplot as plt\n",
        "#simple tools\n",
        "import numpy as np\n",
        "import pandas as pd\n",
        "from sklearn.utils import resample"
      ]
    },
    {
      "cell_type": "code",
      "source": [
        "# Dataset is a collection of reviews and summaries.\n",
        "train_dataset_path = \"https://raw.githubusercontent.com/MiraJuwita/analisiskalimat/main/datasetfix.csv\"\n",
        "\n",
        "train_data = pd.read_csv(train_dataset_path, delimiter=';', encoding='latin-1')\n",
        "\n",
        "train_data.head()"
      ],
      "metadata": {
        "colab": {
          "base_uri": "https://localhost:8080/",
          "height": 207
        },
        "id": "RvNrq3chxki3",
        "outputId": "eead3be4-3c87-4701-89d0-de0eb851d6e5"
      },
      "execution_count": 2,
      "outputs": [
        {
          "output_type": "execute_result",
          "data": {
            "text/plain": [
              "                                                text  label\n",
              "0  Mobil. Mobil sudah ada sejak menjadi terkenal ...      0\n",
              "1  Transportasi merupakan kebutuhan utama di seba...      0\n",
              "2  \"Hubungan cinta Amerika dengan kendaraannya ta...      0\n",
              "3  Seberapa sering Anda naik mobil? Apakah Anda m...      0\n",
              "4  Mobil adalah hal yang luar biasa. Mobil mungki...      0"
            ],
            "text/html": [
              "\n",
              "  <div id=\"df-29e938f2-eeec-43eb-ad16-564423bfcdd4\" class=\"colab-df-container\">\n",
              "    <div>\n",
              "<style scoped>\n",
              "    .dataframe tbody tr th:only-of-type {\n",
              "        vertical-align: middle;\n",
              "    }\n",
              "\n",
              "    .dataframe tbody tr th {\n",
              "        vertical-align: top;\n",
              "    }\n",
              "\n",
              "    .dataframe thead th {\n",
              "        text-align: right;\n",
              "    }\n",
              "</style>\n",
              "<table border=\"1\" class=\"dataframe\">\n",
              "  <thead>\n",
              "    <tr style=\"text-align: right;\">\n",
              "      <th></th>\n",
              "      <th>text</th>\n",
              "      <th>label</th>\n",
              "    </tr>\n",
              "  </thead>\n",
              "  <tbody>\n",
              "    <tr>\n",
              "      <th>0</th>\n",
              "      <td>Mobil. Mobil sudah ada sejak menjadi terkenal ...</td>\n",
              "      <td>0</td>\n",
              "    </tr>\n",
              "    <tr>\n",
              "      <th>1</th>\n",
              "      <td>Transportasi merupakan kebutuhan utama di seba...</td>\n",
              "      <td>0</td>\n",
              "    </tr>\n",
              "    <tr>\n",
              "      <th>2</th>\n",
              "      <td>\"Hubungan cinta Amerika dengan kendaraannya ta...</td>\n",
              "      <td>0</td>\n",
              "    </tr>\n",
              "    <tr>\n",
              "      <th>3</th>\n",
              "      <td>Seberapa sering Anda naik mobil? Apakah Anda m...</td>\n",
              "      <td>0</td>\n",
              "    </tr>\n",
              "    <tr>\n",
              "      <th>4</th>\n",
              "      <td>Mobil adalah hal yang luar biasa. Mobil mungki...</td>\n",
              "      <td>0</td>\n",
              "    </tr>\n",
              "  </tbody>\n",
              "</table>\n",
              "</div>\n",
              "    <div class=\"colab-df-buttons\">\n",
              "\n",
              "  <div class=\"colab-df-container\">\n",
              "    <button class=\"colab-df-convert\" onclick=\"convertToInteractive('df-29e938f2-eeec-43eb-ad16-564423bfcdd4')\"\n",
              "            title=\"Convert this dataframe to an interactive table.\"\n",
              "            style=\"display:none;\">\n",
              "\n",
              "  <svg xmlns=\"http://www.w3.org/2000/svg\" height=\"24px\" viewBox=\"0 -960 960 960\">\n",
              "    <path d=\"M120-120v-720h720v720H120Zm60-500h600v-160H180v160Zm220 220h160v-160H400v160Zm0 220h160v-160H400v160ZM180-400h160v-160H180v160Zm440 0h160v-160H620v160ZM180-180h160v-160H180v160Zm440 0h160v-160H620v160Z\"/>\n",
              "  </svg>\n",
              "    </button>\n",
              "\n",
              "  <style>\n",
              "    .colab-df-container {\n",
              "      display:flex;\n",
              "      gap: 12px;\n",
              "    }\n",
              "\n",
              "    .colab-df-convert {\n",
              "      background-color: #E8F0FE;\n",
              "      border: none;\n",
              "      border-radius: 50%;\n",
              "      cursor: pointer;\n",
              "      display: none;\n",
              "      fill: #1967D2;\n",
              "      height: 32px;\n",
              "      padding: 0 0 0 0;\n",
              "      width: 32px;\n",
              "    }\n",
              "\n",
              "    .colab-df-convert:hover {\n",
              "      background-color: #E2EBFA;\n",
              "      box-shadow: 0px 1px 2px rgba(60, 64, 67, 0.3), 0px 1px 3px 1px rgba(60, 64, 67, 0.15);\n",
              "      fill: #174EA6;\n",
              "    }\n",
              "\n",
              "    .colab-df-buttons div {\n",
              "      margin-bottom: 4px;\n",
              "    }\n",
              "\n",
              "    [theme=dark] .colab-df-convert {\n",
              "      background-color: #3B4455;\n",
              "      fill: #D2E3FC;\n",
              "    }\n",
              "\n",
              "    [theme=dark] .colab-df-convert:hover {\n",
              "      background-color: #434B5C;\n",
              "      box-shadow: 0px 1px 3px 1px rgba(0, 0, 0, 0.15);\n",
              "      filter: drop-shadow(0px 1px 2px rgba(0, 0, 0, 0.3));\n",
              "      fill: #FFFFFF;\n",
              "    }\n",
              "  </style>\n",
              "\n",
              "    <script>\n",
              "      const buttonEl =\n",
              "        document.querySelector('#df-29e938f2-eeec-43eb-ad16-564423bfcdd4 button.colab-df-convert');\n",
              "      buttonEl.style.display =\n",
              "        google.colab.kernel.accessAllowed ? 'block' : 'none';\n",
              "\n",
              "      async function convertToInteractive(key) {\n",
              "        const element = document.querySelector('#df-29e938f2-eeec-43eb-ad16-564423bfcdd4');\n",
              "        const dataTable =\n",
              "          await google.colab.kernel.invokeFunction('convertToInteractive',\n",
              "                                                    [key], {});\n",
              "        if (!dataTable) return;\n",
              "\n",
              "        const docLinkHtml = 'Like what you see? Visit the ' +\n",
              "          '<a target=\"_blank\" href=https://colab.research.google.com/notebooks/data_table.ipynb>data table notebook</a>'\n",
              "          + ' to learn more about interactive tables.';\n",
              "        element.innerHTML = '';\n",
              "        dataTable['output_type'] = 'display_data';\n",
              "        await google.colab.output.renderOutput(dataTable, element);\n",
              "        const docLink = document.createElement('div');\n",
              "        docLink.innerHTML = docLinkHtml;\n",
              "        element.appendChild(docLink);\n",
              "      }\n",
              "    </script>\n",
              "  </div>\n",
              "\n",
              "\n",
              "<div id=\"df-7512844b-4fc3-4ebb-99e8-693d010dc764\">\n",
              "  <button class=\"colab-df-quickchart\" onclick=\"quickchart('df-7512844b-4fc3-4ebb-99e8-693d010dc764')\"\n",
              "            title=\"Suggest charts\"\n",
              "            style=\"display:none;\">\n",
              "\n",
              "<svg xmlns=\"http://www.w3.org/2000/svg\" height=\"24px\"viewBox=\"0 0 24 24\"\n",
              "     width=\"24px\">\n",
              "    <g>\n",
              "        <path d=\"M19 3H5c-1.1 0-2 .9-2 2v14c0 1.1.9 2 2 2h14c1.1 0 2-.9 2-2V5c0-1.1-.9-2-2-2zM9 17H7v-7h2v7zm4 0h-2V7h2v10zm4 0h-2v-4h2v4z\"/>\n",
              "    </g>\n",
              "</svg>\n",
              "  </button>\n",
              "\n",
              "<style>\n",
              "  .colab-df-quickchart {\n",
              "      --bg-color: #E8F0FE;\n",
              "      --fill-color: #1967D2;\n",
              "      --hover-bg-color: #E2EBFA;\n",
              "      --hover-fill-color: #174EA6;\n",
              "      --disabled-fill-color: #AAA;\n",
              "      --disabled-bg-color: #DDD;\n",
              "  }\n",
              "\n",
              "  [theme=dark] .colab-df-quickchart {\n",
              "      --bg-color: #3B4455;\n",
              "      --fill-color: #D2E3FC;\n",
              "      --hover-bg-color: #434B5C;\n",
              "      --hover-fill-color: #FFFFFF;\n",
              "      --disabled-bg-color: #3B4455;\n",
              "      --disabled-fill-color: #666;\n",
              "  }\n",
              "\n",
              "  .colab-df-quickchart {\n",
              "    background-color: var(--bg-color);\n",
              "    border: none;\n",
              "    border-radius: 50%;\n",
              "    cursor: pointer;\n",
              "    display: none;\n",
              "    fill: var(--fill-color);\n",
              "    height: 32px;\n",
              "    padding: 0;\n",
              "    width: 32px;\n",
              "  }\n",
              "\n",
              "  .colab-df-quickchart:hover {\n",
              "    background-color: var(--hover-bg-color);\n",
              "    box-shadow: 0 1px 2px rgba(60, 64, 67, 0.3), 0 1px 3px 1px rgba(60, 64, 67, 0.15);\n",
              "    fill: var(--button-hover-fill-color);\n",
              "  }\n",
              "\n",
              "  .colab-df-quickchart-complete:disabled,\n",
              "  .colab-df-quickchart-complete:disabled:hover {\n",
              "    background-color: var(--disabled-bg-color);\n",
              "    fill: var(--disabled-fill-color);\n",
              "    box-shadow: none;\n",
              "  }\n",
              "\n",
              "  .colab-df-spinner {\n",
              "    border: 2px solid var(--fill-color);\n",
              "    border-color: transparent;\n",
              "    border-bottom-color: var(--fill-color);\n",
              "    animation:\n",
              "      spin 1s steps(1) infinite;\n",
              "  }\n",
              "\n",
              "  @keyframes spin {\n",
              "    0% {\n",
              "      border-color: transparent;\n",
              "      border-bottom-color: var(--fill-color);\n",
              "      border-left-color: var(--fill-color);\n",
              "    }\n",
              "    20% {\n",
              "      border-color: transparent;\n",
              "      border-left-color: var(--fill-color);\n",
              "      border-top-color: var(--fill-color);\n",
              "    }\n",
              "    30% {\n",
              "      border-color: transparent;\n",
              "      border-left-color: var(--fill-color);\n",
              "      border-top-color: var(--fill-color);\n",
              "      border-right-color: var(--fill-color);\n",
              "    }\n",
              "    40% {\n",
              "      border-color: transparent;\n",
              "      border-right-color: var(--fill-color);\n",
              "      border-top-color: var(--fill-color);\n",
              "    }\n",
              "    60% {\n",
              "      border-color: transparent;\n",
              "      border-right-color: var(--fill-color);\n",
              "    }\n",
              "    80% {\n",
              "      border-color: transparent;\n",
              "      border-right-color: var(--fill-color);\n",
              "      border-bottom-color: var(--fill-color);\n",
              "    }\n",
              "    90% {\n",
              "      border-color: transparent;\n",
              "      border-bottom-color: var(--fill-color);\n",
              "    }\n",
              "  }\n",
              "</style>\n",
              "\n",
              "  <script>\n",
              "    async function quickchart(key) {\n",
              "      const quickchartButtonEl =\n",
              "        document.querySelector('#' + key + ' button');\n",
              "      quickchartButtonEl.disabled = true;  // To prevent multiple clicks.\n",
              "      quickchartButtonEl.classList.add('colab-df-spinner');\n",
              "      try {\n",
              "        const charts = await google.colab.kernel.invokeFunction(\n",
              "            'suggestCharts', [key], {});\n",
              "      } catch (error) {\n",
              "        console.error('Error during call to suggestCharts:', error);\n",
              "      }\n",
              "      quickchartButtonEl.classList.remove('colab-df-spinner');\n",
              "      quickchartButtonEl.classList.add('colab-df-quickchart-complete');\n",
              "    }\n",
              "    (() => {\n",
              "      let quickchartButtonEl =\n",
              "        document.querySelector('#df-7512844b-4fc3-4ebb-99e8-693d010dc764 button');\n",
              "      quickchartButtonEl.style.display =\n",
              "        google.colab.kernel.accessAllowed ? 'block' : 'none';\n",
              "    })();\n",
              "  </script>\n",
              "</div>\n",
              "\n",
              "    </div>\n",
              "  </div>\n"
            ],
            "application/vnd.google.colaboratory.intrinsic+json": {
              "type": "dataframe",
              "variable_name": "train_data",
              "summary": "{\n  \"name\": \"train_data\",\n  \"rows\": 10143,\n  \"fields\": [\n    {\n      \"column\": \"text\",\n      \"properties\": {\n        \"dtype\": \"string\",\n        \"num_unique_values\": 10118,\n        \"samples\": [\n          \"Bekerja dalam kelompok untuk mengerjakan tugas sekolah dapat bermanfaat bagi siswa, karena dapat membantu mereka mempelajari keterampilan baru, menemukan solusi untuk masalah, dan menguraikan konsep yang rumit. Di sisi lain, bekerja sendiri dapat memiliki keuntungan tersendiri, seperti memungkinkan siswa untuk bekerja dengan kecepatan mereka sendiri dan memastikan bahwa mereka mendapatkan nilai penuh atas pekerjaan mereka. Pada akhirnya, kedua pendekatan tersebut memiliki kelebihan dan kekurangan, dan siswa harus memutuskan pendekatan mana yang paling cocok untuk mereka. Secara khusus, bekerja dalam kelompok dapat menjadi pilihan yang tepat bagi siswa karena memungkinkan kolaborasi dan tanggung jawab bersama di antara anggota tim. Hal ini tidak hanya dapat membuat proyek lebih mudah dikelola dan menyenangkan, tetapi juga dapat membantu menumbuhkan keterampilan kerja tim dan pemecahan masalah yang penting untuk keberhasilan di masa mendatang. Selain itu, bekerja dalam kelompok juga dapat memberi siswa akses ke berbagai perspektif yang lebih luas, yang memungkinkan setiap anggota untuk belajar dari ide dan kemampuan satu sama lain. Karena alasan ini, siswa harus mempertimbangkan untuk memberikan suara untuk bekerja dalam kelompok untuk mengerjakan tugas sekolah.\",\n          \"Tradisi merupakan bagian penting dari budaya apa pun dan tradisi sering kali membentuk cara kita merayakan hari raya. Salah satu tradisi tersebut adalah menghias pohon Natal selama musim liburan. Ritual tahunan ini telah ada selama lebih dari 500 tahun, dan terus dinikmati oleh banyak orang di seluruh dunia. Sejarah menghias pohon Natal berawal dari Jerman pada abad ke-16, di mana Martin Luther, seorang teolog dan pendeta Jerman, dianggap sebagai salah satu pendukung awalnya. Ia dilaporkan menghias pohon cemara kecil dengan lilin sebagai sarana untuk mengajarkan anak-anaknya tentang kelahiran dan mukjizat Yesus. Sejak saat itu, orang-orang mulai menggunakan hiasan serupa termasuk tali popcorn, hiasan kertas, pita, dan perada pada pohon Natal mereka sendiri untuk makna religius sekaligus kesenangan estetika. Seiring berjalannya waktu, hiasan ini berkembang menjadi apa yang sekarang kita sebut hiasan tradisional seperti bola kaca, tongkat permen, dan Sinterklas yang menghiasi pohon cemara modern kita setiap musim liburan. Variasi tradisi abadi ini saat ini mencerminkan budaya keluarga yang berbeda di seluruh wilayah di Amerika - ada beberapa yang memilih dekorasi klasik sementara yang lain memilih tema yang lebih unik seperti karakter \\\"Harry Potter\\\" atau bahkan barang-barang yang berhubungan dengan Star Wars! \",\n          \"Ketika seseorang menyebutkan musim liburan, kebanyakan orang berpikir tentang Natal. Namun bagi banyak orang Amerika, Thanksgiving sama pentingnya dengan hari libur - jika tidak lebih penting. Dari kumpul-kumpul keluarga dan menonton sepak bola hingga parade dan pai labu, Thanksgiving tidak diragukan lagi merupakan salah satu hari terbaik dalam setahun. Dalam budaya modern, mudah untuk melupakan mengapa kita merayakan hari ini pada bulan November setiap tahun - tetapi cerita asal-usulnya telah diwariskan dari generasi ke generasi sejak awal mulanya hampir empat abad yang lalu. Pesta Thanksgiving pertama diadakan oleh para peziarah Inggris setelah melakukan panen pertama yang berhasil pada tahun 1621. Untuk berterima kasih kepada Tuhan atas perlindungan-Nya dalam perjalanan panjang mereka dari Inggris dan sepanjang hidup mereka yang sulit di Perkebunan Plymouth di tempat yang kemudian menjadi Massachusetts, mereka mengundang suku Indian Amerika untuk bergabung dengan mereka dalam perayaan tiga hari. Tidak ada pertandingan NFL atau persiapan mewah - hanya makanan sederhana namun berlimpah yang disajikan di sekitar api unggun dengan tawa di antara teman-teman lama dan baru. \"\n        ],\n        \"semantic_type\": \"\",\n        \"description\": \"\"\n      }\n    },\n    {\n      \"column\": \"label\",\n      \"properties\": {\n        \"dtype\": \"number\",\n        \"std\": 0,\n        \"min\": 0,\n        \"max\": 1,\n        \"num_unique_values\": 2,\n        \"samples\": [\n          1,\n          0\n        ],\n        \"semantic_type\": \"\",\n        \"description\": \"\"\n      }\n    }\n  ]\n}"
            }
          },
          "metadata": {},
          "execution_count": 2
        }
      ]
    },
    {
      "cell_type": "code",
      "source": [
        "train_data.shape"
      ],
      "metadata": {
        "colab": {
          "base_uri": "https://localhost:8080/"
        },
        "id": "jnjM4RPAbzf3",
        "outputId": "19a3d36a-27cb-4b1e-943a-4a1fb5600e47"
      },
      "execution_count": 3,
      "outputs": [
        {
          "output_type": "execute_result",
          "data": {
            "text/plain": [
              "(10143, 2)"
            ]
          },
          "metadata": {},
          "execution_count": 3
        }
      ]
    },
    {
      "cell_type": "code",
      "source": [
        "# Mengecek jumlah nilai NaN di setiap kolom\n",
        "print(\"Jumlah nilai NaN di setiap kolom:\")\n",
        "print(train_data.isna().sum())\n",
        "\n",
        "# Menampilkan baris yang mengandung nilai NaN\n",
        "print(\"\\nBaris yang mengandung nilai NaN:\")\n",
        "print(train_data[train_data.isna().any(axis=1)])"
      ],
      "metadata": {
        "colab": {
          "base_uri": "https://localhost:8080/"
        },
        "id": "VWwCSA-bfM4h",
        "outputId": "e08ec436-f78c-470f-8b66-20e1c178fba1"
      },
      "execution_count": 4,
      "outputs": [
        {
          "output_type": "stream",
          "name": "stdout",
          "text": [
            "Jumlah nilai NaN di setiap kolom:\n",
            "text     2\n",
            "label    0\n",
            "dtype: int64\n",
            "\n",
            "Baris yang mengandung nilai NaN:\n",
            "     text  label\n",
            "5624  NaN      1\n",
            "5625  NaN      1\n"
          ]
        }
      ]
    },
    {
      "cell_type": "code",
      "source": [
        "# Pastikan tidak ada nilai NaN di kolom 'label' dan konversi tipe data ke integer\n",
        "train_data['label'] = train_data['label'].fillna(0).astype(int)\n",
        "\n",
        "# Menampilkan distribusi label setelah memastikan kolom bersih dari NaN atau nilai negatif\n",
        "if (train_data['label'] < 0).any():\n",
        "    print(\"Kolom 'label' memiliki nilai negatif, harap periksa data Anda.\")\n",
        "else:\n",
        "    print(\"\\nDistribusi label pada kolom 'label':\")\n",
        "    print(np.bincount(train_data['label']))"
      ],
      "metadata": {
        "colab": {
          "base_uri": "https://localhost:8080/"
        },
        "id": "0gp0NuhxglMl",
        "outputId": "ef51a460-4c35-48ea-8b36-9d80e530f188"
      },
      "execution_count": 5,
      "outputs": [
        {
          "output_type": "stream",
          "name": "stdout",
          "text": [
            "\n",
            "Distribusi label pada kolom 'label':\n",
            "[5005 5138]\n"
          ]
        }
      ]
    },
    {
      "cell_type": "code",
      "source": [
        "# Menghitung jumlah kata per baris di kolom 'text'\n",
        "train_data['word_count'] = train_data['text'].apply(lambda x: len(str(x).split()))\n",
        "\n",
        "# Membuat plot violin untuk jumlah kata per baris\n",
        "plt.figure(figsize=(8, 6))\n",
        "sns.violinplot(x=train_data['word_count'])\n",
        "plt.title('Violin Plot of Word Count per Text Entry')\n",
        "plt.xlabel('Word Count')\n",
        "plt.show()"
      ],
      "metadata": {
        "colab": {
          "base_uri": "https://localhost:8080/",
          "height": 564
        },
        "id": "Z9Y5YvYdcIYV",
        "outputId": "8a4d0cb5-731a-4fa4-d9ab-3842286013be"
      },
      "execution_count": 6,
      "outputs": [
        {
          "output_type": "display_data",
          "data": {
            "text/plain": [
              "<Figure size 800x600 with 1 Axes>"
            ],
            "image/png": "[encoded data removed]"
          },
          "metadata": {}
        }
      ]
    },
    {
      "cell_type": "code",
      "source": [
        "# Memisahkan data berdasarkan kelas mayoritas dan minoritas\n",
        "majority_class = train_data[train_data['label'] == 1]\n",
        "minority_class = train_data[train_data['label'] == 0]"
      ],
      "metadata": {
        "id": "V7GRwcXpiEv8"
      },
      "execution_count": 7,
      "outputs": []
    },
    {
      "cell_type": "code",
      "source": [
        "# Downsample kelas mayoritas agar seimbang dengan kelas minoritas\n",
        "majority_downsampled = resample(majority_class,\n",
        "                                replace=False,  # Sampling tanpa penggantian\n",
        "                                n_samples=len(minority_class),  # Menyamakan jumlah dengan kelas minoritas\n",
        "                                random_state=42)  # Untuk reproduktifitas"
      ],
      "metadata": {
        "id": "dsggZHIwiK6J"
      },
      "execution_count": 8,
      "outputs": []
    },
    {
      "cell_type": "code",
      "source": [
        "# Menggabungkan kembali kelas mayoritas yang di-downsample dengan kelas minoritas\n",
        "train_data_balanced = pd.concat([majority_downsampled, minority_class])"
      ],
      "metadata": {
        "id": "0M2jmRzxiNoJ"
      },
      "execution_count": 9,
      "outputs": []
    },
    {
      "cell_type": "code",
      "source": [
        "# Menampilkan distribusi label setelah penyeimbangan\n",
        "print(\"\\nDistribusi label setelah penyeimbangan:\")\n",
        "print(np.bincount(train_data_balanced['label']))"
      ],
      "metadata": {
        "colab": {
          "base_uri": "https://localhost:8080/"
        },
        "id": "oPuBYTT7iYsc",
        "outputId": "add00d08-1be7-41cb-b85b-60fdfe7a8a59"
      },
      "execution_count": 10,
      "outputs": [
        {
          "output_type": "stream",
          "name": "stdout",
          "text": [
            "\n",
            "Distribusi label setelah penyeimbangan:\n",
            "[5005 5005]\n"
          ]
        }
      ]
    },
    {
      "cell_type": "markdown",
      "source": [
        "#Pre Processing Data"
      ],
      "metadata": {
        "id": "QFWVsq-Hk2XW"
      }
    },
    {
      "cell_type": "code",
      "source": [
        "import re\n",
        "import nltk\n",
        "from nltk.corpus import stopwords\n",
        "from nltk.tokenize import word_tokenize"
      ],
      "metadata": {
        "id": "sXSZb_wQk6j-"
      },
      "execution_count": 11,
      "outputs": []
    },
    {
      "cell_type": "code",
      "source": [
        "nltk.download('stopwords')\n",
        "nltk.download('punkt')\n",
        "nltk.download('punkt_tab')"
      ],
      "metadata": {
        "colab": {
          "base_uri": "https://localhost:8080/"
        },
        "id": "-wyU28AklUeS",
        "outputId": "4b2402b6-c973-474a-909f-f59d2ee5d9f4"
      },
      "execution_count": 12,
      "outputs": [
        {
          "output_type": "stream",
          "name": "stderr",
          "text": [
            "[nltk_data] Downloading package stopwords to /root/nltk_data...\n",
            "[nltk_data]   Unzipping corpora/stopwords.zip.\n",
            "[nltk_data] Downloading package punkt to /root/nltk_data...\n",
            "[nltk_data]   Unzipping tokenizers/punkt.zip.\n",
            "[nltk_data] Downloading package punkt_tab to /root/nltk_data...\n",
            "[nltk_data]   Unzipping tokenizers/punkt_tab.zip.\n"
          ]
        },
        {
          "output_type": "execute_result",
          "data": {
            "text/plain": [
              "True"
            ]
          },
          "metadata": {},
          "execution_count": 12
        }
      ]
    },
    {
      "cell_type": "code",
      "source": [
        "# 1. Data Cleaning (menghapus URL, tanda baca, angka, dll.)\n",
        "def clean_text(text):\n",
        "    if isinstance(text, str):  # Pastikan hanya teks yang diolah\n",
        "        original_text = text\n",
        "        # Mengubah teks menjadi huruf kecil\n",
        "        text = text.lower()\n",
        "        # Menghapus URL\n",
        "        text = re.sub(r'http\\S+|www\\S+|https\\S+', '', text)\n",
        "        # Menghapus tanda baca dan karakter khusus\n",
        "        text = re.sub(r'\\W', ' ', text)\n",
        "        # Menghapus angka\n",
        "        text = re.sub(r'\\d', '', text)\n",
        "        # Menghapus spasi berlebih\n",
        "        text = re.sub(r'\\s+', ' ', text).strip()\n",
        "        return original_text, text\n",
        "    else:\n",
        "        return text, text  # Kembalikan teks asli jika bukan string\n",
        "\n",
        "# Terapkan pembersihan teks dan tampilkan sebelum dan sesudah pembersihan\n",
        "train_data_balanced[['original_text', 'cleaned_text']] = train_data_balanced['text'].apply(lambda x: pd.Series(clean_text(x)))\n",
        "\n",
        "print(\"\\nData sebelum dan sesudah cleaning:\")\n",
        "print(train_data_balanced[['original_text', 'cleaned_text']].head())\n"
      ],
      "metadata": {
        "colab": {
          "base_uri": "https://localhost:8080/"
        },
        "id": "TTNwr7NPli1O",
        "outputId": "9cbe5866-d580-4cc6-f59c-a8fcf6eb7a7c"
      },
      "execution_count": 13,
      "outputs": [
        {
          "output_type": "stream",
          "name": "stdout",
          "text": [
            "\n",
            "Data sebelum dan sesudah cleaning:\n",
            "                                          original_text  \\\n",
            "5843  Anjing telah lama menjadi teman yang disayangi...   \n",
            "5982  Pernahkah Anda merasa kewalahan dengan banyakn...   \n",
            "8990  Generic_Name dihadapkan pada tugas berat untuk...   \n",
            "5803  Senator Negara Bagian yang terhormat,\\nSaya me...   \n",
            "7047  Media sosial telah menjadi bagian tak terpisah...   \n",
            "\n",
            "                                           cleaned_text  \n",
            "5843  anjing telah lama menjadi teman yang disayangi...  \n",
            "5982  pernahkah anda merasa kewalahan dengan banyakn...  \n",
            "8990  generic_name dihadapkan pada tugas berat untuk...  \n",
            "5803  senator negara bagian yang terhormat saya menu...  \n",
            "7047  media sosial telah menjadi bagian tak terpisah...  \n"
          ]
        }
      ]
    },
    {
      "cell_type": "code",
      "source": [
        "# 1. Pastikan semua nilai di kolom 'cleaned_text' adalah string\n",
        "train_data_balanced['cleaned_text'] = train_data_balanced['cleaned_text'].fillna(\"\").astype(str)\n",
        "\n",
        "# 2. Modifikasi fungsi untuk menghapus stopwords\n",
        "stop_words = set(stopwords.words('indonesian'))  # Ganti 'indonesian' dengan bahasa yang sesuai\n",
        "\n",
        "def remove_stopwords(text):\n",
        "    if isinstance(text, str):  # Pastikan nilai yang diolah adalah string\n",
        "        words = word_tokenize(text)\n",
        "        filtered_text = [word for word in words if word not in stop_words]\n",
        "        return ' '.join(filtered_text)\n",
        "    else:\n",
        "        return \"\"  # Kembalikan string kosong jika bukan string\n",
        "\n",
        "# Terapkan penghapusan stopwords dan tampilkan hasilnya\n",
        "train_data_balanced['text_without_stopwords'] = train_data_balanced['cleaned_text'].apply(remove_stopwords)\n",
        "\n",
        "print(\"\\nData setelah stopwords dihapus:\")\n",
        "print(train_data_balanced[['cleaned_text', 'text_without_stopwords']].head())"
      ],
      "metadata": {
        "colab": {
          "base_uri": "https://localhost:8080/"
        },
        "id": "sgTdf4LJmU_y",
        "outputId": "14655a13-df58-42dc-8755-3e7703694666"
      },
      "execution_count": 14,
      "outputs": [
        {
          "output_type": "stream",
          "name": "stdout",
          "text": [
            "\n",
            "Data setelah stopwords dihapus:\n",
            "                                           cleaned_text  \\\n",
            "5843  anjing telah lama menjadi teman yang disayangi...   \n",
            "5982  pernahkah anda merasa kewalahan dengan banyakn...   \n",
            "8990  generic_name dihadapkan pada tugas berat untuk...   \n",
            "5803  senator negara bagian yang terhormat saya menu...   \n",
            "7047  media sosial telah menjadi bagian tak terpisah...   \n",
            "\n",
            "                                 text_without_stopwords  \n",
            "5843  anjing teman disayangi manusia cinta dukungan ...  \n",
            "5982  pernahkah kewalahan banyaknya keputusan hidup ...  \n",
            "8990  generic_name dihadapkan tugas berat keputusan ...  \n",
            "5803  senator negara terhormat menulis pendapat topi...  \n",
            "7047  media sosial terpisahkan kehidupan sehari oran...  \n"
          ]
        }
      ]
    },
    {
      "cell_type": "code",
      "source": [
        "# 3. Tokenizing\n",
        "train_data_balanced['tokenized_text'] = train_data_balanced['text_without_stopwords'].apply(word_tokenize)\n",
        "\n",
        "print(\"\\nData setelah tokenisasi:\")\n",
        "print(train_data_balanced[['text_without_stopwords', 'tokenized_text']].head())"
      ],
      "metadata": {
        "colab": {
          "base_uri": "https://localhost:8080/"
        },
        "id": "7RBfJAxHm1Xz",
        "outputId": "9be137ab-26db-4319-9fec-f3ba7adc9297"
      },
      "execution_count": 15,
      "outputs": [
        {
          "output_type": "stream",
          "name": "stdout",
          "text": [
            "\n",
            "Data setelah tokenisasi:\n",
            "                                 text_without_stopwords  \\\n",
            "5843  anjing teman disayangi manusia cinta dukungan ...   \n",
            "5982  pernahkah kewalahan banyaknya keputusan hidup ...   \n",
            "8990  generic_name dihadapkan tugas berat keputusan ...   \n",
            "5803  senator negara terhormat menulis pendapat topi...   \n",
            "7047  media sosial terpisahkan kehidupan sehari oran...   \n",
            "\n",
            "                                         tokenized_text  \n",
            "5843  [anjing, teman, disayangi, manusia, cinta, duk...  \n",
            "5982  [pernahkah, kewalahan, banyaknya, keputusan, h...  \n",
            "8990  [generic_name, dihadapkan, tugas, berat, keput...  \n",
            "5803  [senator, negara, terhormat, menulis, pendapat...  \n",
            "7047  [media, sosial, terpisahkan, kehidupan, sehari...  \n"
          ]
        }
      ]
    },
    {
      "cell_type": "markdown",
      "source": [
        "#Splitting Data"
      ],
      "metadata": {
        "id": "P-wM7BlIn8L2"
      }
    },
    {
      "cell_type": "code",
      "source": [
        "from sklearn.model_selection import train_test_split\n",
        "\n",
        "# Split dataset into training + validation, and test set\n",
        "train_val_data, test_data = train_test_split(train_data_balanced, test_size=0.1, random_state=42, stratify=train_data_balanced['label'])\n",
        "\n",
        "# Split training + validation set further into training and validation sets\n",
        "train_data, val_data = train_test_split(train_val_data, test_size=0.1, random_state=42, stratify=train_val_data['label'])\n",
        "\n",
        "# Print sizes of each split to verify\n",
        "print(f\"Training set size: {len(train_data)}\")\n",
        "print(f\"Validation set size: {len(val_data)}\")\n",
        "print(f\"Test set size: {len(test_data)}\")\n"
      ],
      "metadata": {
        "colab": {
          "base_uri": "https://localhost:8080/"
        },
        "id": "Fy9txinFn_8E",
        "outputId": "5fcbd5e6-f2df-43fc-c2bf-9c3cb924254b"
      },
      "execution_count": 16,
      "outputs": [
        {
          "output_type": "stream",
          "name": "stdout",
          "text": [
            "Training set size: 8108\n",
            "Validation set size: 901\n",
            "Test set size: 1001\n"
          ]
        }
      ]
    },
    {
      "cell_type": "code",
      "source": [
        "train_data.shape"
      ],
      "metadata": {
        "colab": {
          "base_uri": "https://localhost:8080/"
        },
        "id": "Vvk_n-hfoLWH",
        "outputId": "92e08467-bd58-4617-f848-3990a607b3e4"
      },
      "execution_count": 17,
      "outputs": [
        {
          "output_type": "execute_result",
          "data": {
            "text/plain": [
              "(8108, 7)"
            ]
          },
          "metadata": {},
          "execution_count": 17
        }
      ]
    },
    {
      "cell_type": "code",
      "source": [
        "from gensim.models import Word2Vec\n",
        "\n",
        "# Definisi ukuran embedding\n",
        "embedding_dimensions = 150\n",
        "\n",
        "# Membuat dataset untuk Word2Vec dengan tokenisasi teks pada data pelatihan\n",
        "word2vec_train_data = list(map(lambda x: x.split(), train_data['cleaned_text']))\n",
        "\n",
        "# Melatih model Word2Vec\n",
        "word2vec_model = Word2Vec(\n",
        "    sentences=word2vec_train_data,       # Data latih yang sudah di-tokenisasi\n",
        "    vector_size=embedding_dimensions,    # Ukuran vektor embedding\n",
        "    window=5,                            # Jarak maksimum antara kata saat pelatihan\n",
        "    min_count=5,                         # Mengabaikan kata yang muncul kurang dari 5 kali\n",
        "    workers=8,                           # Jumlah core CPU yang digunakan\n",
        "    sg=0                                 # Gunakan model CBOW (sg=0), atau Skip-Gram (sg=1)\n",
        ")\n",
        "\n",
        "# Menampilkan panjang vocabulary dari model Word2Vec yang telah dilatih\n",
        "print(\"Panjang Vocabulary:\", len(word2vec_model.wv.key_to_index))\n"
      ],
      "metadata": {
        "colab": {
          "base_uri": "https://localhost:8080/"
        },
        "id": "DSpkdf1npJSM",
        "outputId": "6b59417f-04ba-46e4-b14e-dc581e2af8f1"
      },
      "execution_count": 18,
      "outputs": [
        {
          "output_type": "stream",
          "name": "stdout",
          "text": [
            "Panjang Vocabulary: 6953\n"
          ]
        }
      ]
    },
    {
      "cell_type": "code",
      "source": [
        "from tensorflow.keras.preprocessing.text import Tokenizer\n",
        "from tensorflow.keras.preprocessing.sequence import pad_sequences\n",
        "\n",
        "# Inisialisasi tokenizer dan sesuaikan dengan data teks\n",
        "tokenizer = Tokenizer()\n",
        "tokenizer.fit_on_texts(train_data['cleaned_text'])  # Melatih tokenizer pada teks hasil preprocessing\n",
        "\n",
        "# Panjang maksimal urutan\n",
        "input_length = 200\n",
        "\n",
        "# Konversi teks ke urutan numerik, lalu lakukan padding agar panjangnya seragam\n",
        "X_train = pad_sequences(tokenizer.texts_to_sequences(train_data['cleaned_text']), maxlen=input_length)\n",
        "X_val = pad_sequences(tokenizer.texts_to_sequences(val_data['cleaned_text']), maxlen=input_length)\n",
        "X_test = pad_sequences(tokenizer.texts_to_sequences(test_data['cleaned_text']), maxlen=input_length)\n",
        "\n",
        "# Menampilkan bentuk akhir dari X_train, X_val, dan X_test\n",
        "print(\"X_train.shape:\", X_train.shape)\n",
        "print(\"X_val.shape  :\", X_val.shape)\n",
        "print(\"X_test.shape :\", X_test.shape)\n"
      ],
      "metadata": {
        "colab": {
          "base_uri": "https://localhost:8080/"
        },
        "id": "7mNq45DFr4NW",
        "outputId": "9ef2e118-8d2f-408b-fe00-604b12d2b084"
      },
      "execution_count": 19,
      "outputs": [
        {
          "output_type": "stream",
          "name": "stdout",
          "text": [
            "X_train.shape: (8108, 200)\n",
            "X_val.shape  : (901, 200)\n",
            "X_test.shape : (1001, 200)\n"
          ]
        }
      ]
    },
    {
      "cell_type": "code",
      "source": [
        "from tensorflow.keras import Sequential\n",
        "from tensorflow.keras.layers import Bidirectional, GlobalMaxPool1D, Dense, LSTM, Conv1D, Embedding\n",
        "from tensorflow.keras.callbacks import ReduceLROnPlateau, EarlyStopping"
      ],
      "metadata": {
        "id": "V3ngBNby3QPQ"
      },
      "execution_count": 20,
      "outputs": []
    },
    {
      "cell_type": "code",
      "source": [
        "# Tentukan ukuran vocab dan embedding dimensions\n",
        "vocab_length = len(tokenizer.word_index) + 1  # +1 karena tokenizer sudah memetakan kata ke index\n",
        "Embedding_dimensions = 150\n",
        "\n",
        "# Menyiapkan embedding matrix dari Word2Vec\n",
        "embedding_matrix = np.zeros((vocab_length, Embedding_dimensions))\n",
        "for word, index in tokenizer.word_index.items():\n",
        "    if word in word2vec_model.wv:\n",
        "        embedding_matrix[index] = word2vec_model.wv[word]"
      ],
      "metadata": {
        "id": "2r8RzUsA3UZw"
      },
      "execution_count": 21,
      "outputs": []
    },
    {
      "cell_type": "code",
      "source": [
        "# Membuat model\n",
        "def getModel():\n",
        "    embedding_layer = Embedding(input_dim=vocab_length,\n",
        "                                output_dim=Embedding_dimensions,\n",
        "                                weights=[embedding_matrix],\n",
        "                                input_length=input_length,\n",
        "                                trainable=False)  # Membuat embedding layer non-trainable\n",
        "\n",
        "    model = Sequential([\n",
        "        embedding_layer,\n",
        "        Bidirectional(LSTM(100, dropout=0.3, return_sequences=True)),\n",
        "        Bidirectional(LSTM(100, dropout=0.3, return_sequences=True)),\n",
        "        Conv1D(100, 5, activation='relu'),\n",
        "        GlobalMaxPool1D(),\n",
        "        Dense(16, activation='relu'),\n",
        "        Dense(1, activation='sigmoid'),\n",
        "    ], name=\"Sentiment_Model\")\n",
        "    return model\n"
      ],
      "metadata": {
        "id": "peEKQt4j29E5"
      },
      "execution_count": 22,
      "outputs": []
    },
    {
      "cell_type": "code",
      "source": [
        "# Membuat model\n",
        "training_model = getModel()\n",
        "training_model.summary()\n"
      ],
      "metadata": {
        "colab": {
          "base_uri": "https://localhost:8080/",
          "height": 404
        },
        "id": "UlHGSsHG3ieY",
        "outputId": "5cc6542f-20b0-44e4-f2a7-96ea95b14454"
      },
      "execution_count": 23,
      "outputs": [
        {
          "output_type": "stream",
          "name": "stderr",
          "text": [
            "/usr/local/lib/python3.10/dist-packages/keras/src/layers/core/embedding.py:90: UserWarning: Argument `input_length` is deprecated. Just remove it.\n",
            "  warnings.warn(\n"
          ]
        },
        {
          "output_type": "display_data",
          "data": {
            "text/plain": [
              "\u001b[1mModel: \"Sentiment_Model\"\u001b[0m\n"
            ],
            "text/html": [
              "<pre style=\"white-space:pre;overflow-x:auto;line-height:normal;font-family:Menlo,'DejaVu Sans Mono',consolas,'Courier New',monospace\"><span style=\"font-weight: bold\">Model: \"Sentiment_Model\"</span>\n",
              "</pre>\n"
            ]
          },
          "metadata": {}
        },
        {
          "output_type": "display_data",
          "data": {
            "text/plain": [
              "┏━━━━━━━━━━━━━━━━━━━━━━━━━━━━━━━━━━━━━━┳━━━━━━━━━━━━━━━━━━━━━━━━━━━━━┳━━━━━━━━━━━━━━━━━┓\n",
              "┃\u001b[1m \u001b[0m\u001b[1mLayer (type)                        \u001b[0m\u001b[1m \u001b[0m┃\u001b[1m \u001b[0m\u001b[1mOutput Shape               \u001b[0m\u001b[1m \u001b[0m┃\u001b[1m \u001b[0m\u001b[1m        Param #\u001b[0m\u001b[1m \u001b[0m┃\n",
              "┡━━━━━━━━━━━━━━━━━━━━━━━━━━━━━━━━━━━━━━╇━━━━━━━━━━━━━━━━━━━━━━━━━━━━━╇━━━━━━━━━━━━━━━━━┩\n",
              "│ embedding (\u001b[38;5;33mEmbedding\u001b[0m)                │ ?                           │       \u001b[38;5;34m2,516,550\u001b[0m │\n",
              "├──────────────────────────────────────┼─────────────────────────────┼─────────────────┤\n",
              "│ bidirectional (\u001b[38;5;33mBidirectional\u001b[0m)        │ ?                           │     \u001b[38;5;34m0\u001b[0m (unbuilt) │\n",
              "├──────────────────────────────────────┼─────────────────────────────┼─────────────────┤\n",
              "│ bidirectional_1 (\u001b[38;5;33mBidirectional\u001b[0m)      │ ?                           │     \u001b[38;5;34m0\u001b[0m (unbuilt) │\n",
              "├──────────────────────────────────────┼─────────────────────────────┼─────────────────┤\n",
              "│ conv1d (\u001b[38;5;33mConv1D\u001b[0m)                      │ ?                           │     \u001b[38;5;34m0\u001b[0m (unbuilt) │\n",
              "├──────────────────────────────────────┼─────────────────────────────┼─────────────────┤\n",
              "│ global_max_pooling1d                 │ ?                           │     \u001b[38;5;34m0\u001b[0m (unbuilt) │\n",
              "│ (\u001b[38;5;33mGlobalMaxPooling1D\u001b[0m)                 │                             │                 │\n",
              "├──────────────────────────────────────┼─────────────────────────────┼─────────────────┤\n",
              "│ dense (\u001b[38;5;33mDense\u001b[0m)                        │ ?                           │     \u001b[38;5;34m0\u001b[0m (unbuilt) │\n",
              "├──────────────────────────────────────┼─────────────────────────────┼─────────────────┤\n",
              "│ dense_1 (\u001b[38;5;33mDense\u001b[0m)                      │ ?                           │     \u001b[38;5;34m0\u001b[0m (unbuilt) │\n",
              "└──────────────────────────────────────┴─────────────────────────────┴─────────────────┘\n"
            ],
            "text/html": [
              "<pre style=\"white-space:pre;overflow-x:auto;line-height:normal;font-family:Menlo,'DejaVu Sans Mono',consolas,'Courier New',monospace\">┏━━━━━━━━━━━━━━━━━━━━━━━━━━━━━━━━━━━━━━┳━━━━━━━━━━━━━━━━━━━━━━━━━━━━━┳━━━━━━━━━━━━━━━━━┓\n",
              "┃<span style=\"font-weight: bold\"> Layer (type)                         </span>┃<span style=\"font-weight: bold\"> Output Shape                </span>┃<span style=\"font-weight: bold\">         Param # </span>┃\n",
              "┡━━━━━━━━━━━━━━━━━━━━━━━━━━━━━━━━━━━━━━╇━━━━━━━━━━━━━━━━━━━━━━━━━━━━━╇━━━━━━━━━━━━━━━━━┩\n",
              "│ embedding (<span style=\"color: #0087ff; text-decoration-color: #0087ff\">Embedding</span>)                │ ?                           │       <span style=\"color: #00af00; text-decoration-color: #00af00\">2,516,550</span> │\n",
              "├──────────────────────────────────────┼─────────────────────────────┼─────────────────┤\n",
              "│ bidirectional (<span style=\"color: #0087ff; text-decoration-color: #0087ff\">Bidirectional</span>)        │ ?                           │     <span style=\"color: #00af00; text-decoration-color: #00af00\">0</span> (unbuilt) │\n",
              "├──────────────────────────────────────┼─────────────────────────────┼─────────────────┤\n",
              "│ bidirectional_1 (<span style=\"color: #0087ff; text-decoration-color: #0087ff\">Bidirectional</span>)      │ ?                           │     <span style=\"color: #00af00; text-decoration-color: #00af00\">0</span> (unbuilt) │\n",
              "├──────────────────────────────────────┼─────────────────────────────┼─────────────────┤\n",
              "│ conv1d (<span style=\"color: #0087ff; text-decoration-color: #0087ff\">Conv1D</span>)                      │ ?                           │     <span style=\"color: #00af00; text-decoration-color: #00af00\">0</span> (unbuilt) │\n",
              "├──────────────────────────────────────┼─────────────────────────────┼─────────────────┤\n",
              "│ global_max_pooling1d                 │ ?                           │     <span style=\"color: #00af00; text-decoration-color: #00af00\">0</span> (unbuilt) │\n",
              "│ (<span style=\"color: #0087ff; text-decoration-color: #0087ff\">GlobalMaxPooling1D</span>)                 │                             │                 │\n",
              "├──────────────────────────────────────┼─────────────────────────────┼─────────────────┤\n",
              "│ dense (<span style=\"color: #0087ff; text-decoration-color: #0087ff\">Dense</span>)                        │ ?                           │     <span style=\"color: #00af00; text-decoration-color: #00af00\">0</span> (unbuilt) │\n",
              "├──────────────────────────────────────┼─────────────────────────────┼─────────────────┤\n",
              "│ dense_1 (<span style=\"color: #0087ff; text-decoration-color: #0087ff\">Dense</span>)                      │ ?                           │     <span style=\"color: #00af00; text-decoration-color: #00af00\">0</span> (unbuilt) │\n",
              "└──────────────────────────────────────┴─────────────────────────────┴─────────────────┘\n",
              "</pre>\n"
            ]
          },
          "metadata": {}
        },
        {
          "output_type": "display_data",
          "data": {
            "text/plain": [
              "\u001b[1m Total params: \u001b[0m\u001b[38;5;34m2,516,550\u001b[0m (9.60 MB)\n"
            ],
            "text/html": [
              "<pre style=\"white-space:pre;overflow-x:auto;line-height:normal;font-family:Menlo,'DejaVu Sans Mono',consolas,'Courier New',monospace\"><span style=\"font-weight: bold\"> Total params: </span><span style=\"color: #00af00; text-decoration-color: #00af00\">2,516,550</span> (9.60 MB)\n",
              "</pre>\n"
            ]
          },
          "metadata": {}
        },
        {
          "output_type": "display_data",
          "data": {
            "text/plain": [
              "\u001b[1m Trainable params: \u001b[0m\u001b[38;5;34m0\u001b[0m (0.00 B)\n"
            ],
            "text/html": [
              "<pre style=\"white-space:pre;overflow-x:auto;line-height:normal;font-family:Menlo,'DejaVu Sans Mono',consolas,'Courier New',monospace\"><span style=\"font-weight: bold\"> Trainable params: </span><span style=\"color: #00af00; text-decoration-color: #00af00\">0</span> (0.00 B)\n",
              "</pre>\n"
            ]
          },
          "metadata": {}
        },
        {
          "output_type": "display_data",
          "data": {
            "text/plain": [
              "\u001b[1m Non-trainable params: \u001b[0m\u001b[38;5;34m2,516,550\u001b[0m (9.60 MB)\n"
            ],
            "text/html": [
              "<pre style=\"white-space:pre;overflow-x:auto;line-height:normal;font-family:Menlo,'DejaVu Sans Mono',consolas,'Courier New',monospace\"><span style=\"font-weight: bold\"> Non-trainable params: </span><span style=\"color: #00af00; text-decoration-color: #00af00\">2,516,550</span> (9.60 MB)\n",
              "</pre>\n"
            ]
          },
          "metadata": {}
        }
      ]
    },
    {
      "cell_type": "code",
      "source": [
        "# Compile the model before training\n",
        "training_model.compile(optimizer='adam', loss='binary_crossentropy', metrics=['accuracy'])\n",
        "\n",
        "# Menyiapkan callbacks\n",
        "callbacks = [\n",
        "    ReduceLROnPlateau(monitor='val_loss', patience=5, cooldown=0),\n",
        "    EarlyStopping(monitor='val_accuracy', min_delta=1e-4, patience=5)\n",
        "]\n",
        "\n",
        "# Memastikan X_train, y_train, X_val, y_val, X_test, y_test cocok\n",
        "X_train = pad_sequences(tokenizer.texts_to_sequences(train_data_balanced['cleaned_text']), maxlen=input_length)\n",
        "X_val = pad_sequences(tokenizer.texts_to_sequences(val_data['cleaned_text']), maxlen=input_length)\n",
        "X_test = pad_sequences(tokenizer.texts_to_sequences(test_data['cleaned_text']), maxlen=input_length)\n",
        "\n",
        "# Pastikan label (y_train, y_val, y_test) diambil dari data yang benar\n",
        "y_train = train_data_balanced['label'].values\n",
        "y_val = val_data['label'].values\n",
        "y_test = test_data['label'].values\n",
        "\n",
        "# Periksa ukuran akhir\n",
        "print(f\"X_train shape: {X_train.shape}\")\n",
        "print(f\"y_train shape: {y_train.shape}\")"
      ],
      "metadata": {
        "colab": {
          "base_uri": "https://localhost:8080/"
        },
        "id": "8DMQ3aAz3tiy",
        "outputId": "c2e0af7d-0b68-4cc0-bb62-61f995d1b552"
      },
      "execution_count": 24,
      "outputs": [
        {
          "output_type": "stream",
          "name": "stdout",
          "text": [
            "X_train shape: (10010, 200)\n",
            "y_train shape: (10010,)\n"
          ]
        }
      ]
    },
    {
      "cell_type": "code",
      "source": [
        "# Melatih model\n",
        "history = training_model.fit(\n",
        "    X_train, y_train,\n",
        "    batch_size=256,\n",
        "    epochs=10,\n",
        "    validation_data=(X_val, y_val),\n",
        "    callbacks=callbacks,\n",
        "    verbose=1,\n",
        ")"
      ],
      "metadata": {
        "colab": {
          "base_uri": "https://localhost:8080/"
        },
        "id": "5mhcqSAD31_N",
        "outputId": "179fda9a-fb0d-4d2a-d432-1891a8c7bf26"
      },
      "execution_count": 25,
      "outputs": [
        {
          "output_type": "stream",
          "name": "stdout",
          "text": [
            "Epoch 1/10\n",
            "\u001b[1m40/40\u001b[0m \u001b[32m━━━━━━━━━━━━━━━━━━━━\u001b[0m\u001b[37m\u001b[0m \u001b[1m15s\u001b[0m 136ms/step - accuracy: 0.8429 - loss: 0.3200 - val_accuracy: 0.9534 - val_loss: 0.1402 - learning_rate: 0.0010\n",
            "Epoch 2/10\n",
            "\u001b[1m40/40\u001b[0m \u001b[32m━━━━━━━━━━━━━━━━━━━━\u001b[0m\u001b[37m\u001b[0m \u001b[1m5s\u001b[0m 115ms/step - accuracy: 0.9540 - loss: 0.1315 - val_accuracy: 0.9745 - val_loss: 0.0773 - learning_rate: 0.0010\n",
            "Epoch 3/10\n",
            "\u001b[1m40/40\u001b[0m \u001b[32m━━━━━━━━━━━━━━━━━━━━\u001b[0m\u001b[37m\u001b[0m \u001b[1m5s\u001b[0m 116ms/step - accuracy: 0.9750 - loss: 0.0765 - val_accuracy: 0.9734 - val_loss: 0.0832 - learning_rate: 0.0010\n",
            "Epoch 4/10\n",
            "\u001b[1m40/40\u001b[0m \u001b[32m━━━━━━━━━━━━━━━━━━━━\u001b[0m\u001b[37m\u001b[0m \u001b[1m5s\u001b[0m 119ms/step - accuracy: 0.9753 - loss: 0.0692 - val_accuracy: 0.9822 - val_loss: 0.0608 - learning_rate: 0.0010\n",
            "Epoch 5/10\n",
            "\u001b[1m40/40\u001b[0m \u001b[32m━━━━━━━━━━━━━━━━━━━━\u001b[0m\u001b[37m\u001b[0m \u001b[1m5s\u001b[0m 118ms/step - accuracy: 0.9783 - loss: 0.0649 - val_accuracy: 0.9867 - val_loss: 0.0376 - learning_rate: 0.0010\n",
            "Epoch 6/10\n",
            "\u001b[1m40/40\u001b[0m \u001b[32m━━━━━━━━━━━━━━━━━━━━\u001b[0m\u001b[37m\u001b[0m \u001b[1m5s\u001b[0m 120ms/step - accuracy: 0.9849 - loss: 0.0487 - val_accuracy: 0.9889 - val_loss: 0.0346 - learning_rate: 0.0010\n",
            "Epoch 7/10\n",
            "\u001b[1m40/40\u001b[0m \u001b[32m━━━━━━━━━━━━━━━━━━━━\u001b[0m\u001b[37m\u001b[0m \u001b[1m5s\u001b[0m 120ms/step - accuracy: 0.9865 - loss: 0.0414 - val_accuracy: 0.9878 - val_loss: 0.0343 - learning_rate: 0.0010\n",
            "Epoch 8/10\n",
            "\u001b[1m40/40\u001b[0m \u001b[32m━━━━━━━━━━━━━━━━━━━━\u001b[0m\u001b[37m\u001b[0m \u001b[1m5s\u001b[0m 120ms/step - accuracy: 0.9863 - loss: 0.0368 - val_accuracy: 0.9878 - val_loss: 0.0244 - learning_rate: 0.0010\n",
            "Epoch 9/10\n",
            "\u001b[1m40/40\u001b[0m \u001b[32m━━━━━━━━━━━━━━━━━━━━\u001b[0m\u001b[37m\u001b[0m \u001b[1m5s\u001b[0m 121ms/step - accuracy: 0.9920 - loss: 0.0259 - val_accuracy: 0.9889 - val_loss: 0.0283 - learning_rate: 0.0010\n",
            "Epoch 10/10\n",
            "\u001b[1m40/40\u001b[0m \u001b[32m━━━━━━━━━━━━━━━━━━━━\u001b[0m\u001b[37m\u001b[0m \u001b[1m5s\u001b[0m 119ms/step - accuracy: 0.9895 - loss: 0.0296 - val_accuracy: 0.9956 - val_loss: 0.0147 - learning_rate: 0.0010\n"
          ]
        }
      ]
    },
    {
      "cell_type": "code",
      "source": [
        "import matplotlib.pyplot as plt\n",
        "\n",
        "# Mengambil nilai akurasi dan loss untuk pelatihan dan validasi\n",
        "acc = history.history['accuracy']\n",
        "val_acc = history.history['val_accuracy']\n",
        "loss = history.history['loss']\n",
        "val_loss = history.history['val_loss']\n",
        "\n",
        "# Menentukan jumlah epochs\n",
        "epochs = range(len(acc))\n",
        "\n",
        "# Plot Training dan Validation Accuracy\n",
        "plt.plot(epochs, acc, 'b', label='Training accuracy')\n",
        "plt.plot(epochs, val_acc, 'r', label='Validation accuracy')\n",
        "plt.title('Training and Validation Accuracy')\n",
        "plt.xlabel('Epochs')\n",
        "plt.ylabel('Accuracy')\n",
        "plt.legend()\n",
        "\n",
        "# Plot Training dan Validation Loss\n",
        "plt.figure()\n",
        "plt.plot(epochs, loss, 'b', label='Training loss')\n",
        "plt.plot(epochs, val_loss, 'r', label='Validation loss')\n",
        "plt.title('Training and Validation Loss')\n",
        "plt.xlabel('Epochs')\n",
        "plt.ylabel('Loss')\n",
        "plt.legend()\n",
        "\n",
        "# Tampilkan grafik\n",
        "plt.show()\n"
      ],
      "metadata": {
        "colab": {
          "base_uri": "https://localhost:8080/",
          "height": 927
        },
        "id": "-9nY5qVz6uHw",
        "outputId": "c5227c6e-dc36-4bdb-8564-ea565ff4d278"
      },
      "execution_count": 26,
      "outputs": [
        {
          "output_type": "display_data",
          "data": {
            "text/plain": [
              "<Figure size 640x480 with 1 Axes>"
            ],
            "image/png": "[encoded data removed]"
          },
          "metadata": {}
        },
        {
          "output_type": "display_data",
          "data": {
            "text/plain": [
              "<Figure size 640x480 with 1 Axes>"
            ],
            "image/png": "[encoded data removed]"
          },
          "metadata": {}
        }
      ]
    },
    {
      "cell_type": "code",
      "source": [
        "print(f\"Training Accuracy: {max(acc):.3f}\")\n",
        "print(f\"Validation Accuracy: {max(val_acc):.3f}\")\n"
      ],
      "metadata": {
        "id": "HzpswcjbcJJM",
        "colab": {
          "base_uri": "https://localhost:8080/"
        },
        "outputId": "63fe98c7-0943-4dc8-fe25-b3d6f47552a4"
      },
      "execution_count": 27,
      "outputs": [
        {
          "output_type": "stream",
          "name": "stdout",
          "text": [
            "Training Accuracy: 0.991\n",
            "Validation Accuracy: 0.996\n"
          ]
        }
      ]
    },
    {
      "cell_type": "code",
      "source": [
        "from sklearn.metrics import confusion_matrix, classification_report\n",
        "\n",
        "def plot_confusion_matrix(y_true, y_pred):\n",
        "    # Compute the confusion matrix\n",
        "    cf_matrix = confusion_matrix(y_true, y_pred)\n",
        "\n",
        "    # Define label names and group names for the confusion matrix\n",
        "    categories = ['AI', 'Human']\n",
        "    group_names = ['True Neg', 'False Pos', 'False Neg', 'True Pos']\n",
        "    group_percentages = ['{0:.2%}'.format(value) for value in cf_matrix.flatten() / np.sum(cf_matrix)]\n",
        "\n",
        "    # Create labels for each square in the matrix\n",
        "    labels = [f'{v1}\\n{v2}' for v1, v2 in zip(group_names, group_percentages)]\n",
        "    labels = np.asarray(labels).reshape(2, 2)\n",
        "\n",
        "    # Plot confusion matrix heatmap\n",
        "    sns.heatmap(cf_matrix, annot=labels, cmap='Blues', fmt='',\n",
        "                xticklabels=categories, yticklabels=categories)\n",
        "\n",
        "    plt.xlabel(\"Predicted Values\", fontdict={'size':14}, labelpad=10)\n",
        "    plt.ylabel(\"Actual Values\", fontdict={'size':14}, labelpad=10)\n",
        "    plt.title(\"Confusion Matrix\", fontdict={'size':18}, pad=20)\n",
        "    plt.show()"
      ],
      "metadata": {
        "id": "gIbKumlOUIfS"
      },
      "execution_count": 28,
      "outputs": []
    },
    {
      "cell_type": "code",
      "source": [
        "# Get the test data and true labels\n",
        "X_test = test_data['cleaned_text']  # Replace with actual text column\n",
        "y_test = test_data['label']         # Replace with actual label column\n",
        "\n",
        "# Tokenize and pad the test data\n",
        "X_test_sequences = pad_sequences(tokenizer.texts_to_sequences(X_test), maxlen=input_length)\n",
        "\n",
        "# Make predictions on the test data\n",
        "y_pred_proba = training_model.predict(X_test_sequences)\n",
        "\n",
        "# Convert prediction probabilities to binary outcomes (0 or 1)\n",
        "y_pred = np.where(y_pred_proba >= 0.5, 1, 0)\n",
        "\n",
        "# Plot the confusion matrix\n",
        "plot_confusion_matrix(y_test, y_pred)\n",
        "\n",
        "# Print the classification report\n",
        "print(classification_report(y_test, y_pred, target_names=['Human', 'AI']))"
      ],
      "metadata": {
        "id": "-2idqb3kULVY",
        "colab": {
          "base_uri": "https://localhost:8080/",
          "height": 682
        },
        "outputId": "c10868ea-d690-46c1-b469-7230dded518b"
      },
      "execution_count": 29,
      "outputs": [
        {
          "output_type": "stream",
          "name": "stdout",
          "text": [
            "\u001b[1m32/32\u001b[0m \u001b[32m━━━━━━━━━━━━━━━━━━━━\u001b[0m\u001b[37m\u001b[0m \u001b[1m2s\u001b[0m 28ms/step\n"
          ]
        },
        {
          "output_type": "display_data",
          "data": {
            "text/plain": [
              "<Figure size 640x480 with 2 Axes>"
            ],
            "image/png": "[encoded data removed]"
          },
          "metadata": {}
        },
        {
          "output_type": "stream",
          "name": "stdout",
          "text": [
            "              precision    recall  f1-score   support\n",
            "\n",
            "       Human       0.99      1.00      0.99       501\n",
            "          AI       1.00      0.99      0.99       500\n",
            "\n",
            "    accuracy                           0.99      1001\n",
            "   macro avg       0.99      0.99      0.99      1001\n",
            "weighted avg       0.99      0.99      0.99      1001\n",
            "\n"
          ]
        }
      ]
    },
    {
      "cell_type": "code",
      "source": [
        " import pickle\n",
        "\n",
        " training_model.save('/content/drive/MyDrive/model_bilstm14.h5')\n",
        " tokenizer_path = '/content/drive/MyDrive/tokenizer14.pkl'\n",
        "\n",
        " # Save the tokenizer using pickle\n",
        " with open(tokenizer_path, 'wb') as handle:\n",
        "     pickle.dump(tokenizer, handle, protocol=pickle.HIGHEST_PROTOCOL)"
      ],
      "metadata": {
        "id": "4lfW97PefGow",
        "colab": {
          "base_uri": "https://localhost:8080/"
        },
        "outputId": "8a3bc6ae-04e5-40ce-c32a-c8afc131834d"
      },
      "execution_count": 30,
      "outputs": [
        {
          "output_type": "stream",
          "name": "stderr",
          "text": [
            "WARNING:absl:You are saving your model as an HDF5 file via `model.save()` or `keras.saving.save_model(model)`. This file format is considered legacy. We recommend using instead the native Keras format, e.g. `model.save('my_model.keras')` or `keras.saving.save_model(model, 'my_model.keras')`. \n"
          ]
        }
      ]
    },
    {
      "cell_type": "code",
      "source": [
        "from tensorflow.keras.models import load_model\n",
        "\n",
        "#Load model yang sudah terlatih\n",
        "model = load_model('/content/drive/MyDrive/model_bilstm14.h5')  # Sesuaikan path jika berbeda\n",
        "\n",
        "# Load tokenizer yang digunakan saat melatih model\n",
        "with open('/content/drive/MyDrive/tokenizer14.pkl', 'rb') as handle:  # Sesuaikan path jika berbeda\n",
        "       tokenizer = pickle.load(handle)\n",
        "\n",
        " # Fungsi untuk memprediksi apakah kalimat tersebut buatan AI atau manusia\n",
        "def predict_sentence(sentence):\n",
        "     # Preprocessing kalimat: tokenisasi dan padding\n",
        "     sequence = tokenizer.texts_to_sequences([sentence])\n",
        "     padded_sequence = pad_sequences(sequence, maxlen=250)    # Sesuaikan dengan maxlen saat pelatihan\n",
        "\n",
        "     # Prediksi\n",
        "     prediction = model.predict(padded_sequence)\n",
        "\n",
        "     # Interpretasi hasil\n",
        "     if prediction >= 0.3:\n",
        "         result = \"Kalimat ini mungkin buatan AI.\"\n",
        "     else:\n",
        "         result = \"Kalimat ini mungkin buatan manusia.\"\n",
        "\n",
        "     return result\n",
        "\n",
        " # Input kalimat dari pengguna\n",
        "sentence = input(\"Masukkan kalimat untuk diprediksi: \")\n",
        "print(predict_sentence(sentence))"
      ],
      "metadata": {
        "id": "53ZZewPRebwx",
        "colab": {
          "base_uri": "https://localhost:8080/"
        },
        "outputId": "050a66d0-57b1-49af-cbdf-fc0ceb9ea372"
      },
      "execution_count": 31,
      "outputs": [
        {
          "output_type": "stream",
          "name": "stderr",
          "text": [
            "WARNING:absl:Compiled the loaded model, but the compiled metrics have yet to be built. `model.compile_metrics` will be empty until you train or evaluate the model.\n"
          ]
        },
        {
          "output_type": "stream",
          "name": "stdout",
          "text": [
            "Masukkan kalimat untuk diprediksi: Mobil. Mobil sudah ada sejak menjadi terkenal pada tahun 1900-an, saat Henry Ford menciptakan dan membangun Model IT pertama. Mobil telah memainkan peran utama dalam kehidupan kita sehari-hari sejak saat itu. \n",
            "\u001b[1m1/1\u001b[0m \u001b[32m━━━━━━━━━━━━━━━━━━━━\u001b[0m\u001b[37m\u001b[0m \u001b[1m1s\u001b[0m 670ms/step\n",
            "Kalimat ini mungkin buatan manusia.\n"
          ]
        }
      ]
    },
    {
      "cell_type": "code",
      "source": [],
      "metadata": {
        "id": "Zxm3L4pdg2tU"
      },
      "execution_count": 31,
      "outputs": []
    }
  ]
}